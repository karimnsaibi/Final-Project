{
 "cells": [
  {
   "cell_type": "code",
   "execution_count": 2,
   "id": "f3c8b7a3",
   "metadata": {},
   "outputs": [],
   "source": [
    "# Importing necessary libs : \n",
    "\n",
    "import numpy as np\n",
    "import pandas as pd\n",
    "import matplotlib.pyplot as plt\n",
    "import seaborn as sns\n",
    "\n",
    "%matplotlib inline"
   ]
  },
  {
   "cell_type": "code",
   "execution_count": 3,
   "id": "8340cda5",
   "metadata": {},
   "outputs": [
    {
     "data": {
      "text/html": [
       "<div>\n",
       "<style scoped>\n",
       "    .dataframe tbody tr th:only-of-type {\n",
       "        vertical-align: middle;\n",
       "    }\n",
       "\n",
       "    .dataframe tbody tr th {\n",
       "        vertical-align: top;\n",
       "    }\n",
       "\n",
       "    .dataframe thead th {\n",
       "        text-align: right;\n",
       "    }\n",
       "</style>\n",
       "<table border=\"1\" class=\"dataframe\">\n",
       "  <thead>\n",
       "    <tr style=\"text-align: right;\">\n",
       "      <th></th>\n",
       "      <th>fixed acidity</th>\n",
       "      <th>volatile acidity</th>\n",
       "      <th>citric acid</th>\n",
       "      <th>residual sugar</th>\n",
       "      <th>chlorides</th>\n",
       "      <th>free sulfur dioxide</th>\n",
       "      <th>total sulfur dioxide</th>\n",
       "      <th>density</th>\n",
       "      <th>pH</th>\n",
       "      <th>sulphates</th>\n",
       "      <th>alcohol</th>\n",
       "      <th>quality</th>\n",
       "    </tr>\n",
       "  </thead>\n",
       "  <tbody>\n",
       "    <tr>\n",
       "      <th>0</th>\n",
       "      <td>7.0</td>\n",
       "      <td>0.27</td>\n",
       "      <td>0.36</td>\n",
       "      <td>20.7</td>\n",
       "      <td>0.045</td>\n",
       "      <td>45.0</td>\n",
       "      <td>170.0</td>\n",
       "      <td>1.00100</td>\n",
       "      <td>3.00</td>\n",
       "      <td>0.45</td>\n",
       "      <td>8.8</td>\n",
       "      <td>6</td>\n",
       "    </tr>\n",
       "    <tr>\n",
       "      <th>1</th>\n",
       "      <td>6.3</td>\n",
       "      <td>0.30</td>\n",
       "      <td>0.34</td>\n",
       "      <td>1.6</td>\n",
       "      <td>0.049</td>\n",
       "      <td>14.0</td>\n",
       "      <td>132.0</td>\n",
       "      <td>0.99400</td>\n",
       "      <td>3.30</td>\n",
       "      <td>0.49</td>\n",
       "      <td>9.5</td>\n",
       "      <td>6</td>\n",
       "    </tr>\n",
       "    <tr>\n",
       "      <th>2</th>\n",
       "      <td>8.1</td>\n",
       "      <td>0.28</td>\n",
       "      <td>0.40</td>\n",
       "      <td>6.9</td>\n",
       "      <td>0.050</td>\n",
       "      <td>30.0</td>\n",
       "      <td>97.0</td>\n",
       "      <td>0.99510</td>\n",
       "      <td>3.26</td>\n",
       "      <td>0.44</td>\n",
       "      <td>10.1</td>\n",
       "      <td>6</td>\n",
       "    </tr>\n",
       "    <tr>\n",
       "      <th>3</th>\n",
       "      <td>7.2</td>\n",
       "      <td>0.23</td>\n",
       "      <td>0.32</td>\n",
       "      <td>8.5</td>\n",
       "      <td>0.058</td>\n",
       "      <td>47.0</td>\n",
       "      <td>186.0</td>\n",
       "      <td>0.99560</td>\n",
       "      <td>3.19</td>\n",
       "      <td>0.40</td>\n",
       "      <td>9.9</td>\n",
       "      <td>6</td>\n",
       "    </tr>\n",
       "    <tr>\n",
       "      <th>4</th>\n",
       "      <td>7.2</td>\n",
       "      <td>0.23</td>\n",
       "      <td>0.32</td>\n",
       "      <td>8.5</td>\n",
       "      <td>0.058</td>\n",
       "      <td>47.0</td>\n",
       "      <td>186.0</td>\n",
       "      <td>0.99560</td>\n",
       "      <td>3.19</td>\n",
       "      <td>0.40</td>\n",
       "      <td>9.9</td>\n",
       "      <td>6</td>\n",
       "    </tr>\n",
       "    <tr>\n",
       "      <th>...</th>\n",
       "      <td>...</td>\n",
       "      <td>...</td>\n",
       "      <td>...</td>\n",
       "      <td>...</td>\n",
       "      <td>...</td>\n",
       "      <td>...</td>\n",
       "      <td>...</td>\n",
       "      <td>...</td>\n",
       "      <td>...</td>\n",
       "      <td>...</td>\n",
       "      <td>...</td>\n",
       "      <td>...</td>\n",
       "    </tr>\n",
       "    <tr>\n",
       "      <th>4893</th>\n",
       "      <td>6.2</td>\n",
       "      <td>0.21</td>\n",
       "      <td>0.29</td>\n",
       "      <td>1.6</td>\n",
       "      <td>0.039</td>\n",
       "      <td>24.0</td>\n",
       "      <td>92.0</td>\n",
       "      <td>0.99114</td>\n",
       "      <td>3.27</td>\n",
       "      <td>0.50</td>\n",
       "      <td>11.2</td>\n",
       "      <td>6</td>\n",
       "    </tr>\n",
       "    <tr>\n",
       "      <th>4894</th>\n",
       "      <td>6.6</td>\n",
       "      <td>0.32</td>\n",
       "      <td>0.36</td>\n",
       "      <td>8.0</td>\n",
       "      <td>0.047</td>\n",
       "      <td>57.0</td>\n",
       "      <td>168.0</td>\n",
       "      <td>0.99490</td>\n",
       "      <td>3.15</td>\n",
       "      <td>0.46</td>\n",
       "      <td>9.6</td>\n",
       "      <td>5</td>\n",
       "    </tr>\n",
       "    <tr>\n",
       "      <th>4895</th>\n",
       "      <td>6.5</td>\n",
       "      <td>0.24</td>\n",
       "      <td>0.19</td>\n",
       "      <td>1.2</td>\n",
       "      <td>0.041</td>\n",
       "      <td>30.0</td>\n",
       "      <td>111.0</td>\n",
       "      <td>0.99254</td>\n",
       "      <td>2.99</td>\n",
       "      <td>0.46</td>\n",
       "      <td>9.4</td>\n",
       "      <td>6</td>\n",
       "    </tr>\n",
       "    <tr>\n",
       "      <th>4896</th>\n",
       "      <td>5.5</td>\n",
       "      <td>0.29</td>\n",
       "      <td>0.30</td>\n",
       "      <td>1.1</td>\n",
       "      <td>0.022</td>\n",
       "      <td>20.0</td>\n",
       "      <td>110.0</td>\n",
       "      <td>0.98869</td>\n",
       "      <td>3.34</td>\n",
       "      <td>0.38</td>\n",
       "      <td>12.8</td>\n",
       "      <td>7</td>\n",
       "    </tr>\n",
       "    <tr>\n",
       "      <th>4897</th>\n",
       "      <td>6.0</td>\n",
       "      <td>0.21</td>\n",
       "      <td>0.38</td>\n",
       "      <td>0.8</td>\n",
       "      <td>0.020</td>\n",
       "      <td>22.0</td>\n",
       "      <td>98.0</td>\n",
       "      <td>0.98941</td>\n",
       "      <td>3.26</td>\n",
       "      <td>0.32</td>\n",
       "      <td>11.8</td>\n",
       "      <td>6</td>\n",
       "    </tr>\n",
       "  </tbody>\n",
       "</table>\n",
       "<p>4898 rows × 12 columns</p>\n",
       "</div>"
      ],
      "text/plain": [
       "      fixed acidity  volatile acidity  citric acid  residual sugar  chlorides  \\\n",
       "0               7.0              0.27         0.36            20.7      0.045   \n",
       "1               6.3              0.30         0.34             1.6      0.049   \n",
       "2               8.1              0.28         0.40             6.9      0.050   \n",
       "3               7.2              0.23         0.32             8.5      0.058   \n",
       "4               7.2              0.23         0.32             8.5      0.058   \n",
       "...             ...               ...          ...             ...        ...   \n",
       "4893            6.2              0.21         0.29             1.6      0.039   \n",
       "4894            6.6              0.32         0.36             8.0      0.047   \n",
       "4895            6.5              0.24         0.19             1.2      0.041   \n",
       "4896            5.5              0.29         0.30             1.1      0.022   \n",
       "4897            6.0              0.21         0.38             0.8      0.020   \n",
       "\n",
       "      free sulfur dioxide  total sulfur dioxide  density    pH  sulphates  \\\n",
       "0                    45.0                 170.0  1.00100  3.00       0.45   \n",
       "1                    14.0                 132.0  0.99400  3.30       0.49   \n",
       "2                    30.0                  97.0  0.99510  3.26       0.44   \n",
       "3                    47.0                 186.0  0.99560  3.19       0.40   \n",
       "4                    47.0                 186.0  0.99560  3.19       0.40   \n",
       "...                   ...                   ...      ...   ...        ...   \n",
       "4893                 24.0                  92.0  0.99114  3.27       0.50   \n",
       "4894                 57.0                 168.0  0.99490  3.15       0.46   \n",
       "4895                 30.0                 111.0  0.99254  2.99       0.46   \n",
       "4896                 20.0                 110.0  0.98869  3.34       0.38   \n",
       "4897                 22.0                  98.0  0.98941  3.26       0.32   \n",
       "\n",
       "      alcohol  quality  \n",
       "0         8.8        6  \n",
       "1         9.5        6  \n",
       "2        10.1        6  \n",
       "3         9.9        6  \n",
       "4         9.9        6  \n",
       "...       ...      ...  \n",
       "4893     11.2        6  \n",
       "4894      9.6        5  \n",
       "4895      9.4        6  \n",
       "4896     12.8        7  \n",
       "4897     11.8        6  \n",
       "\n",
       "[4898 rows x 12 columns]"
      ]
     },
     "execution_count": 3,
     "metadata": {},
     "output_type": "execute_result"
    }
   ],
   "source": [
    "# Loading our dataset :\n",
    "\n",
    "data = pd.read_csv('winequality-white (1).csv' , sep = ';')\n",
    "data"
   ]
  },
  {
   "cell_type": "markdown",
   "id": "88c16ab9",
   "metadata": {},
   "source": [
    "# Preprocessing phase :"
   ]
  },
  {
   "cell_type": "code",
   "execution_count": 4,
   "id": "a0ecdd88",
   "metadata": {},
   "outputs": [
    {
     "data": {
      "text/plain": [
       "fixed acidity           0\n",
       "volatile acidity        0\n",
       "citric acid             0\n",
       "residual sugar          0\n",
       "chlorides               0\n",
       "free sulfur dioxide     0\n",
       "total sulfur dioxide    0\n",
       "density                 0\n",
       "pH                      0\n",
       "sulphates               0\n",
       "alcohol                 0\n",
       "quality                 0\n",
       "dtype: int64"
      ]
     },
     "execution_count": 4,
     "metadata": {},
     "output_type": "execute_result"
    }
   ],
   "source": [
    "# Looking for any missing values :\n",
    "\n",
    "data.isnull().sum()"
   ]
  },
  {
   "cell_type": "code",
   "execution_count": 5,
   "id": "f9f00814",
   "metadata": {},
   "outputs": [
    {
     "data": {
      "text/html": [
       "<div>\n",
       "<style scoped>\n",
       "    .dataframe tbody tr th:only-of-type {\n",
       "        vertical-align: middle;\n",
       "    }\n",
       "\n",
       "    .dataframe tbody tr th {\n",
       "        vertical-align: top;\n",
       "    }\n",
       "\n",
       "    .dataframe thead th {\n",
       "        text-align: right;\n",
       "    }\n",
       "</style>\n",
       "<table border=\"1\" class=\"dataframe\">\n",
       "  <thead>\n",
       "    <tr style=\"text-align: right;\">\n",
       "      <th></th>\n",
       "      <th>fixed acidity</th>\n",
       "      <th>volatile acidity</th>\n",
       "      <th>citric acid</th>\n",
       "      <th>residual sugar</th>\n",
       "      <th>chlorides</th>\n",
       "      <th>free sulfur dioxide</th>\n",
       "      <th>total sulfur dioxide</th>\n",
       "      <th>density</th>\n",
       "      <th>pH</th>\n",
       "      <th>sulphates</th>\n",
       "      <th>alcohol</th>\n",
       "      <th>quality</th>\n",
       "    </tr>\n",
       "  </thead>\n",
       "  <tbody>\n",
       "    <tr>\n",
       "      <th>count</th>\n",
       "      <td>4898.000000</td>\n",
       "      <td>4898.000000</td>\n",
       "      <td>4898.000000</td>\n",
       "      <td>4898.000000</td>\n",
       "      <td>4898.000000</td>\n",
       "      <td>4898.000000</td>\n",
       "      <td>4898.000000</td>\n",
       "      <td>4898.000000</td>\n",
       "      <td>4898.000000</td>\n",
       "      <td>4898.000000</td>\n",
       "      <td>4898.000000</td>\n",
       "      <td>4898.000000</td>\n",
       "    </tr>\n",
       "    <tr>\n",
       "      <th>mean</th>\n",
       "      <td>6.854788</td>\n",
       "      <td>0.278241</td>\n",
       "      <td>0.334192</td>\n",
       "      <td>6.391415</td>\n",
       "      <td>0.045772</td>\n",
       "      <td>35.308085</td>\n",
       "      <td>138.360657</td>\n",
       "      <td>0.994027</td>\n",
       "      <td>3.188267</td>\n",
       "      <td>0.489847</td>\n",
       "      <td>10.514267</td>\n",
       "      <td>5.877909</td>\n",
       "    </tr>\n",
       "    <tr>\n",
       "      <th>std</th>\n",
       "      <td>0.843868</td>\n",
       "      <td>0.100795</td>\n",
       "      <td>0.121020</td>\n",
       "      <td>5.072058</td>\n",
       "      <td>0.021848</td>\n",
       "      <td>17.007137</td>\n",
       "      <td>42.498065</td>\n",
       "      <td>0.002991</td>\n",
       "      <td>0.151001</td>\n",
       "      <td>0.114126</td>\n",
       "      <td>1.230621</td>\n",
       "      <td>0.885639</td>\n",
       "    </tr>\n",
       "    <tr>\n",
       "      <th>min</th>\n",
       "      <td>3.800000</td>\n",
       "      <td>0.080000</td>\n",
       "      <td>0.000000</td>\n",
       "      <td>0.600000</td>\n",
       "      <td>0.009000</td>\n",
       "      <td>2.000000</td>\n",
       "      <td>9.000000</td>\n",
       "      <td>0.987110</td>\n",
       "      <td>2.720000</td>\n",
       "      <td>0.220000</td>\n",
       "      <td>8.000000</td>\n",
       "      <td>3.000000</td>\n",
       "    </tr>\n",
       "    <tr>\n",
       "      <th>25%</th>\n",
       "      <td>6.300000</td>\n",
       "      <td>0.210000</td>\n",
       "      <td>0.270000</td>\n",
       "      <td>1.700000</td>\n",
       "      <td>0.036000</td>\n",
       "      <td>23.000000</td>\n",
       "      <td>108.000000</td>\n",
       "      <td>0.991723</td>\n",
       "      <td>3.090000</td>\n",
       "      <td>0.410000</td>\n",
       "      <td>9.500000</td>\n",
       "      <td>5.000000</td>\n",
       "    </tr>\n",
       "    <tr>\n",
       "      <th>50%</th>\n",
       "      <td>6.800000</td>\n",
       "      <td>0.260000</td>\n",
       "      <td>0.320000</td>\n",
       "      <td>5.200000</td>\n",
       "      <td>0.043000</td>\n",
       "      <td>34.000000</td>\n",
       "      <td>134.000000</td>\n",
       "      <td>0.993740</td>\n",
       "      <td>3.180000</td>\n",
       "      <td>0.470000</td>\n",
       "      <td>10.400000</td>\n",
       "      <td>6.000000</td>\n",
       "    </tr>\n",
       "    <tr>\n",
       "      <th>75%</th>\n",
       "      <td>7.300000</td>\n",
       "      <td>0.320000</td>\n",
       "      <td>0.390000</td>\n",
       "      <td>9.900000</td>\n",
       "      <td>0.050000</td>\n",
       "      <td>46.000000</td>\n",
       "      <td>167.000000</td>\n",
       "      <td>0.996100</td>\n",
       "      <td>3.280000</td>\n",
       "      <td>0.550000</td>\n",
       "      <td>11.400000</td>\n",
       "      <td>6.000000</td>\n",
       "    </tr>\n",
       "    <tr>\n",
       "      <th>max</th>\n",
       "      <td>14.200000</td>\n",
       "      <td>1.100000</td>\n",
       "      <td>1.660000</td>\n",
       "      <td>65.800000</td>\n",
       "      <td>0.346000</td>\n",
       "      <td>289.000000</td>\n",
       "      <td>440.000000</td>\n",
       "      <td>1.038980</td>\n",
       "      <td>3.820000</td>\n",
       "      <td>1.080000</td>\n",
       "      <td>14.200000</td>\n",
       "      <td>9.000000</td>\n",
       "    </tr>\n",
       "  </tbody>\n",
       "</table>\n",
       "</div>"
      ],
      "text/plain": [
       "       fixed acidity  volatile acidity  citric acid  residual sugar  \\\n",
       "count    4898.000000       4898.000000  4898.000000     4898.000000   \n",
       "mean        6.854788          0.278241     0.334192        6.391415   \n",
       "std         0.843868          0.100795     0.121020        5.072058   \n",
       "min         3.800000          0.080000     0.000000        0.600000   \n",
       "25%         6.300000          0.210000     0.270000        1.700000   \n",
       "50%         6.800000          0.260000     0.320000        5.200000   \n",
       "75%         7.300000          0.320000     0.390000        9.900000   \n",
       "max        14.200000          1.100000     1.660000       65.800000   \n",
       "\n",
       "         chlorides  free sulfur dioxide  total sulfur dioxide      density  \\\n",
       "count  4898.000000          4898.000000           4898.000000  4898.000000   \n",
       "mean      0.045772            35.308085            138.360657     0.994027   \n",
       "std       0.021848            17.007137             42.498065     0.002991   \n",
       "min       0.009000             2.000000              9.000000     0.987110   \n",
       "25%       0.036000            23.000000            108.000000     0.991723   \n",
       "50%       0.043000            34.000000            134.000000     0.993740   \n",
       "75%       0.050000            46.000000            167.000000     0.996100   \n",
       "max       0.346000           289.000000            440.000000     1.038980   \n",
       "\n",
       "                pH    sulphates      alcohol      quality  \n",
       "count  4898.000000  4898.000000  4898.000000  4898.000000  \n",
       "mean      3.188267     0.489847    10.514267     5.877909  \n",
       "std       0.151001     0.114126     1.230621     0.885639  \n",
       "min       2.720000     0.220000     8.000000     3.000000  \n",
       "25%       3.090000     0.410000     9.500000     5.000000  \n",
       "50%       3.180000     0.470000    10.400000     6.000000  \n",
       "75%       3.280000     0.550000    11.400000     6.000000  \n",
       "max       3.820000     1.080000    14.200000     9.000000  "
      ]
     },
     "execution_count": 5,
     "metadata": {},
     "output_type": "execute_result"
    }
   ],
   "source": [
    "data.describe()"
   ]
  },
  {
   "cell_type": "markdown",
   "id": "c70f34f7",
   "metadata": {},
   "source": [
    "# Visualization phase :"
   ]
  },
  {
   "cell_type": "raw",
   "id": "f1f73e42",
   "metadata": {},
   "source": [
    "Target selection : \n",
    "\n",
    "as we can see the quality is our target because it depends\n",
    "on other parts of our datasets which are the features"
   ]
  },
  {
   "cell_type": "code",
   "execution_count": 6,
   "id": "a04b739d",
   "metadata": {},
   "outputs": [
    {
     "data": {
      "text/plain": [
       "6    2198\n",
       "5    1457\n",
       "7     880\n",
       "8     175\n",
       "4     163\n",
       "3      20\n",
       "9       5\n",
       "Name: quality, dtype: int64"
      ]
     },
     "execution_count": 6,
     "metadata": {},
     "output_type": "execute_result"
    }
   ],
   "source": [
    "data['quality'].value_counts()"
   ]
  },
  {
   "cell_type": "code",
   "execution_count": 7,
   "id": "58944524",
   "metadata": {},
   "outputs": [
    {
     "data": {
      "text/plain": [
       "<AxesSubplot:xlabel='quality', ylabel='count'>"
      ]
     },
     "execution_count": 7,
     "metadata": {},
     "output_type": "execute_result"
    },
    {
     "data": {
      "image/png": "[encoded data removed]",
      "text/plain": [
       "<Figure size 432x288 with 1 Axes>"
      ]
     },
     "metadata": {
      "needs_background": "light"
     },
     "output_type": "display_data"
    }
   ],
   "source": [
    "# Interpreting the quality distribution :\n",
    "\n",
    "sns.countplot(x = 'quality' , data = data)"
   ]
  },
  {
   "cell_type": "code",
   "execution_count": 167,
   "id": "ab0e04eb",
   "metadata": {},
   "outputs": [],
   "source": [
    "# Classifying the wine basing on its quality :\n",
    "\n",
    "def classify_wine_quality(quality):\n",
    "    if quality < 6:\n",
    "        return 'poor quality'\n",
    "    elif quality == 6:\n",
    "        return 'normal quality'\n",
    "    else:\n",
    "        return 'excellent quality'\n",
    "    \n",
    "data['quality_classification'] = data['quality'].apply(classify_wine_quality)"
   ]
  },
  {
   "cell_type": "code",
   "execution_count": 168,
   "id": "da33648f",
   "metadata": {},
   "outputs": [
    {
     "data": {
      "text/plain": [
       "<AxesSubplot:xlabel='quality_classification', ylabel='count'>"
      ]
     },
     "execution_count": 168,
     "metadata": {},
     "output_type": "execute_result"
    },
    {
     "data": {
      "image/png": "[encoded data removed]",
      "text/plain": [
       "<Figure size 504x360 with 1 Axes>"
      ]
     },
     "metadata": {},
     "output_type": "display_data"
    }
   ],
   "source": [
    "sns.set_style('darkgrid')\n",
    "sns.set(rc = {'figure.figsize' : (7,5)})\n",
    "sns.countplot(x = 'quality_classification' , data = data)"
   ]
  },
  {
   "cell_type": "raw",
   "id": "5c22cf2f",
   "metadata": {},
   "source": [
    "Feature selection : \n",
    "\n",
    "Now that we classified our target , we need to get a look on\n",
    "the impact of each feature on our target and the select the \n",
    "authorities "
   ]
  },
  {
   "cell_type": "code",
   "execution_count": 169,
   "id": "8310c213",
   "metadata": {},
   "outputs": [
    {
     "data": {
      "text/plain": [
       "<AxesSubplot:xlabel='quality', ylabel='fixed acidity'>"
      ]
     },
     "execution_count": 169,
     "metadata": {},
     "output_type": "execute_result"
    },
    {
     "data": {
      "image/png": "[encoded data removed]",
      "text/plain": [
       "<Figure size 504x360 with 1 Axes>"
      ]
     },
     "metadata": {},
     "output_type": "display_data"
    }
   ],
   "source": [
    "# Fixed acidity :\n",
    "\n",
    "sns.barplot(x ='quality', y ='fixed acidity', data = data)"
   ]
  },
  {
   "cell_type": "code",
   "execution_count": 170,
   "id": "08ded7b1",
   "metadata": {},
   "outputs": [
    {
     "data": {
      "text/plain": [
       "<AxesSubplot:xlabel='quality classification', ylabel='alcohol'>"
      ]
     },
     "execution_count": 170,
     "metadata": {},
     "output_type": "execute_result"
    },
    {
     "data": {
      "image/png": "[encoded data removed]",
      "text/plain": [
       "<Figure size 720x360 with 1 Axes>"
      ]
     },
     "metadata": {},
     "output_type": "display_data"
    }
   ],
   "source": [
    "# Alcohol :\n",
    "\n",
    "sns.set(rc = {'figure.figsize':(10,5)})\n",
    "sns.boxplot(y = 'alcohol', x = 'quality classification' , hue = 'quality classification' , data = data)"
   ]
  },
  {
   "cell_type": "code",
   "execution_count": 171,
   "id": "ecb3056c",
   "metadata": {},
   "outputs": [
    {
     "data": {
      "text/plain": [
       "<AxesSubplot:xlabel='quality classification', ylabel='pH'>"
      ]
     },
     "execution_count": 171,
     "metadata": {},
     "output_type": "execute_result"
    },
    {
     "data": {
      "image/png": "[encoded data removed]",
      "text/plain": [
       "<Figure size 720x360 with 1 Axes>"
      ]
     },
     "metadata": {},
     "output_type": "display_data"
    }
   ],
   "source": [
    "# pH :\n",
    "\n",
    "sns.boxplot(y = 'pH' , x = 'quality classification' , data = data , hue = 'quality classification') "
   ]
  },
  {
   "cell_type": "code",
   "execution_count": 172,
   "id": "a7e5d9e2",
   "metadata": {},
   "outputs": [
    {
     "data": {
      "text/plain": [
       "<AxesSubplot:xlabel='quality_classification', ylabel='sulphates'>"
      ]
     },
     "execution_count": 172,
     "metadata": {},
     "output_type": "execute_result"
    },
    {
     "data": {
      "image/png": "[encoded data removed]",
      "text/plain": [
       "<Figure size 720x360 with 1 Axes>"
      ]
     },
     "metadata": {},
     "output_type": "display_data"
    }
   ],
   "source": [
    "# Sulphates :\n",
    "\n",
    "sns.boxplot(y = 'sulphates' , x = 'quality_classification' , data = data , hue = 'quality classification')"
   ]
  },
  {
   "cell_type": "code",
   "execution_count": 173,
   "id": "70739e1d",
   "metadata": {},
   "outputs": [
    {
     "data": {
      "text/plain": [
       "<AxesSubplot:xlabel='quality_classification', ylabel='fixed acidity'>"
      ]
     },
     "execution_count": 173,
     "metadata": {},
     "output_type": "execute_result"
    },
    {
     "data": {
      "image/png": "[encoded data removed]",
      "text/plain": [
       "<Figure size 720x360 with 1 Axes>"
      ]
     },
     "metadata": {},
     "output_type": "display_data"
    }
   ],
   "source": [
    "# Fixed acidity :\n",
    "\n",
    "sns.boxplot(y = 'fixed acidity' , x = 'quality_classification' , data = data , hue = 'quality classification')"
   ]
  },
  {
   "cell_type": "code",
   "execution_count": 174,
   "id": "5e31aec0",
   "metadata": {},
   "outputs": [
    {
     "data": {
      "text/plain": [
       "<AxesSubplot:xlabel='quality_classification', ylabel='volatile acidity'>"
      ]
     },
     "execution_count": 174,
     "metadata": {},
     "output_type": "execute_result"
    },
    {
     "data": {
      "image/png": "[encoded data removed]",
      "text/plain": [
       "<Figure size 720x360 with 1 Axes>"
      ]
     },
     "metadata": {},
     "output_type": "display_data"
    }
   ],
   "source": [
    "sns.boxplot(y = 'volatile acidity' , x = 'quality_classification' , data = data , hue = 'quality_classification')"
   ]
  },
  {
   "cell_type": "code",
   "execution_count": 175,
   "id": "b7a6c42b",
   "metadata": {},
   "outputs": [
    {
     "data": {
      "text/plain": [
       "<AxesSubplot:xlabel='quality classification', ylabel='citric acid'>"
      ]
     },
     "execution_count": 175,
     "metadata": {},
     "output_type": "execute_result"
    },
    {
     "data": {
      "image/png": "[encoded data removed]",
      "text/plain": [
       "<Figure size 720x360 with 1 Axes>"
      ]
     },
     "metadata": {},
     "output_type": "display_data"
    }
   ],
   "source": [
    "sns.boxplot(y = 'citric acid' , x = 'quality classification' , data = data , hue = 'quality classification')"
   ]
  },
  {
   "cell_type": "code",
   "execution_count": 176,
   "id": "0c81edd2",
   "metadata": {},
   "outputs": [
    {
     "data": {
      "text/plain": [
       "<AxesSubplot:xlabel='quality classification', ylabel='residual sugar'>"
      ]
     },
     "execution_count": 176,
     "metadata": {},
     "output_type": "execute_result"
    },
    {
     "data": {
      "image/png": "[encoded data removed]",
      "text/plain": [
       "<Figure size 720x360 with 1 Axes>"
      ]
     },
     "metadata": {},
     "output_type": "display_data"
    }
   ],
   "source": [
    "sns.boxplot(y = 'residual sugar' , x = 'quality classification' , data = data , hue = 'quality classification')"
   ]
  },
  {
   "cell_type": "code",
   "execution_count": 177,
   "id": "1dd217b0",
   "metadata": {},
   "outputs": [
    {
     "data": {
      "text/plain": [
       "<AxesSubplot:xlabel='quality classification', ylabel='chlorides'>"
      ]
     },
     "execution_count": 177,
     "metadata": {},
     "output_type": "execute_result"
    },
    {
     "data": {
      "image/png": "[encoded data removed]",
      "text/plain": [
       "<Figure size 720x360 with 1 Axes>"
      ]
     },
     "metadata": {},
     "output_type": "display_data"
    }
   ],
   "source": [
    "sns.boxplot(y = 'chlorides' , x = 'quality classification' , data = data , hue = 'quality classification')"
   ]
  },
  {
   "cell_type": "code",
   "execution_count": 178,
   "id": "80d58510",
   "metadata": {},
   "outputs": [
    {
     "data": {
      "text/plain": [
       "<AxesSubplot:xlabel='quality classification', ylabel='free sulfur dioxide'>"
      ]
     },
     "execution_count": 178,
     "metadata": {},
     "output_type": "execute_result"
    },
    {
     "data": {
      "image/png": "[encoded data removed]",
      "text/plain": [
       "<Figure size 720x360 with 1 Axes>"
      ]
     },
     "metadata": {},
     "output_type": "display_data"
    }
   ],
   "source": [
    "sns.boxplot(y = 'free sulfur dioxide' , x = 'quality classification' , data = data , hue = 'quality classification')"
   ]
  },
  {
   "cell_type": "code",
   "execution_count": 179,
   "id": "8d7b6379",
   "metadata": {},
   "outputs": [
    {
     "data": {
      "text/plain": [
       "<AxesSubplot:xlabel='quality classification', ylabel='total sulfur dioxide'>"
      ]
     },
     "execution_count": 179,
     "metadata": {},
     "output_type": "execute_result"
    },
    {
     "data": {
      "image/png": "[encoded data removed]",
      "text/plain": [
       "<Figure size 720x360 with 1 Axes>"
      ]
     },
     "metadata": {},
     "output_type": "display_data"
    }
   ],
   "source": [
    "sns.boxplot(y = 'total sulfur dioxide' , x = 'quality classification' , data = data , hue = 'quality classification')"
   ]
  },
  {
   "cell_type": "code",
   "execution_count": 21,
   "id": "103d55b5",
   "metadata": {},
   "outputs": [
    {
     "data": {
      "text/plain": [
       "<AxesSubplot:xlabel='quality classification', ylabel='density'>"
      ]
     },
     "execution_count": 21,
     "metadata": {},
     "output_type": "execute_result"
    },
    {
     "data": {
      "image/png": "[encoded data removed]",
      "text/plain": [
       "<Figure size 720x360 with 1 Axes>"
      ]
     },
     "metadata": {},
     "output_type": "display_data"
    }
   ],
   "source": [
    "sns.boxplot(y = 'density' , x = 'quality classification' , data = data , hue = 'quality classification')"
   ]
  },
  {
   "cell_type": "raw",
   "id": "67e6fd1c",
   "metadata": {},
   "source": [
    "From the plots above we can conclude that pH , alcohol , the density , chlorides ,\n",
    "volatile aciditya , sulphates have the leverage of influence on the wine quality\n",
    "\n",
    "This observation is also validated by the below correlation of the feature variable with regards to quality"
   ]
  },
  {
   "cell_type": "code",
   "execution_count": 22,
   "id": "66c670df",
   "metadata": {},
   "outputs": [
    {
     "name": "stdout",
     "output_type": "stream",
     "text": [
      "alcohol                 0.435575\n",
      "pH                      0.099427\n",
      "sulphates               0.053678\n",
      "free sulfur dioxide     0.008158\n",
      "citric acid            -0.009209\n",
      "residual sugar         -0.097577\n",
      "fixed acidity          -0.113663\n",
      "total sulfur dioxide   -0.174737\n",
      "volatile acidity       -0.194723\n",
      "chlorides              -0.209934\n",
      "density                -0.307123\n",
      "Name: quality, dtype: float64\n"
     ]
    }
   ],
   "source": [
    "correlation = data.corr()['quality'].drop('quality')\n",
    "print(correlation.sort_values(kind = 'quicksort' , ascending = False))"
   ]
  },
  {
   "cell_type": "raw",
   "id": "0184dd5d",
   "metadata": {},
   "source": [
    "Last and not least , we've to perform label encode the categorical variables\n",
    "that we have created to classify the wine quality into 3 groups"
   ]
  },
  {
   "cell_type": "code",
   "execution_count": 23,
   "id": "c6f98ca0",
   "metadata": {},
   "outputs": [],
   "source": [
    "from sklearn.preprocessing import LabelEncoder"
   ]
  },
  {
   "cell_type": "code",
   "execution_count": 24,
   "id": "b50ecbf6",
   "metadata": {},
   "outputs": [
    {
     "data": {
      "text/plain": [
       "0       6\n",
       "1       6\n",
       "2       6\n",
       "3       6\n",
       "4       6\n",
       "       ..\n",
       "4893    6\n",
       "4894    5\n",
       "4895    6\n",
       "4896    7\n",
       "4897    6\n",
       "Name: quality, Length: 4898, dtype: int64"
      ]
     },
     "execution_count": 24,
     "metadata": {},
     "output_type": "execute_result"
    }
   ],
   "source": [
    "LE = LabelEncoder()\n",
    "data['quality classification'] = LE.fit_transform(data['quality classification'])\n",
    "data['quality classification'].dtypes\n",
    "data['quality']"
   ]
  },
  {
   "cell_type": "markdown",
   "id": "88b364e5",
   "metadata": {},
   "source": [
    "#  Machine Learning model :"
   ]
  },
  {
   "cell_type": "markdown",
   "id": "7d001991",
   "metadata": {},
   "source": [
    "# 1. Polynomial Regression"
   ]
  },
  {
   "cell_type": "code",
   "execution_count": 139,
   "id": "1044f459",
   "metadata": {},
   "outputs": [],
   "source": [
    "from sklearn.preprocessing import PolynomialFeatures "
   ]
  },
  {
   "cell_type": "code",
   "execution_count": 155,
   "id": "d2ae1be4",
   "metadata": {},
   "outputs": [
    {
     "name": "stdout",
     "output_type": "stream",
     "text": [
      "x :  [[ 3.    8.8   0.45]\n",
      " [ 3.3   9.5   0.49]\n",
      " [ 3.26 10.1   0.44]\n",
      " ...\n",
      " [ 2.99  9.4   0.46]\n",
      " [ 3.34 12.8   0.38]\n",
      " [ 3.26 11.8   0.32]]\n",
      "y :  [1 1 1 ... 1 0 1]\n"
     ]
    }
   ],
   "source": [
    "x = data[['pH' , 'alcohol' , 'sulphates' ]].values\n",
    "y = data['quality classification'].values\n",
    "print('x : ' , x)\n",
    "print('y : ' , y)"
   ]
  },
  {
   "cell_type": "code",
   "execution_count": 156,
   "id": "7e059a76",
   "metadata": {},
   "outputs": [],
   "source": [
    "lg = LinearRegression() \n",
    "poly = PolynomialFeatures(degree = 2) "
   ]
  },
  {
   "cell_type": "code",
   "execution_count": 157,
   "id": "516db105",
   "metadata": {},
   "outputs": [
    {
     "name": "stdout",
     "output_type": "stream",
     "text": [
      "x before transformation:  [[ 3.    8.8   0.45]\n",
      " [ 3.3   9.5   0.49]\n",
      " [ 3.26 10.1   0.44]\n",
      " ...\n",
      " [ 2.99  9.4   0.46]\n",
      " [ 3.34 12.8   0.38]\n",
      " [ 3.26 11.8   0.32]]\n",
      "x after transformation:  [[1.0000e+00 3.0000e+00 8.8000e+00 ... 7.7440e+01 3.9600e+00 2.0250e-01]\n",
      " [1.0000e+00 3.3000e+00 9.5000e+00 ... 9.0250e+01 4.6550e+00 2.4010e-01]\n",
      " [1.0000e+00 3.2600e+00 1.0100e+01 ... 1.0201e+02 4.4440e+00 1.9360e-01]\n",
      " ...\n",
      " [1.0000e+00 2.9900e+00 9.4000e+00 ... 8.8360e+01 4.3240e+00 2.1160e-01]\n",
      " [1.0000e+00 3.3400e+00 1.2800e+01 ... 1.6384e+02 4.8640e+00 1.4440e-01]\n",
      " [1.0000e+00 3.2600e+00 1.1800e+01 ... 1.3924e+02 3.7760e+00 1.0240e-01]]\n"
     ]
    },
    {
     "data": {
      "text/plain": [
       "LinearRegression()"
      ]
     },
     "execution_count": 157,
     "metadata": {},
     "output_type": "execute_result"
    }
   ],
   "source": [
    "x_=poly.fit_transform(x)\n",
    "print(\"x before transformation: \", x)\n",
    "print(\"x after transformation: \", x_)\n",
    "lg.fit(x_, y) # Fitting Polynomial Regression to the dataset "
   ]
  },
  {
   "cell_type": "code",
   "execution_count": 158,
   "id": "c9f5b64e",
   "metadata": {},
   "outputs": [
    {
     "data": {
      "text/plain": [
       "array([1.39138594, 1.65398266, 1.12677469, ..., 1.61661492, 1.38328054,\n",
       "       1.38263406])"
      ]
     },
     "execution_count": 158,
     "metadata": {},
     "output_type": "execute_result"
    }
   ],
   "source": [
    "x_test_=poly.fit_transform(x_test)\n",
    "lg.predict(x_test_)"
   ]
  },
  {
   "cell_type": "code",
   "execution_count": 159,
   "id": "1314aee0",
   "metadata": {},
   "outputs": [
    {
     "name": "stdout",
     "output_type": "stream",
     "text": [
      "MSE:  0.4131188487923209\n",
      "R squared:  0.21872544998750587\n"
     ]
    }
   ],
   "source": [
    "print(\"MSE: \", metrics.mean_squared_error(y_test, predicted))\n",
    "print(\"R squared: \", metrics.r2_score(y_test,predicted))"
   ]
  },
  {
   "cell_type": "markdown",
   "id": "2cdf7ace",
   "metadata": {},
   "source": [
    "# 2. Random Forest Classifier :"
   ]
  },
  {
   "cell_type": "code",
   "execution_count": 25,
   "id": "4988395a",
   "metadata": {},
   "outputs": [],
   "source": [
    "# Import the needed scikit learn libraries :\n",
    "\n",
    "from sklearn.ensemble import RandomForestClassifier\n",
    "from sklearn.metrics import confusion_matrix, classification_report\n",
    "from sklearn.model_selection import train_test_split"
   ]
  },
  {
   "cell_type": "code",
   "execution_count": 26,
   "id": "0a60ab58",
   "metadata": {},
   "outputs": [],
   "source": [
    "# Divide the dataset into training data and test data :\n",
    "\n",
    "x_train, x_test, y_train, y_test = train_test_split(data.drop(['quality classification' , 'quality'], axis = 1 ) , data['quality classification'], test_size = 0.40)"
   ]
  },
  {
   "cell_type": "code",
   "execution_count": 27,
   "id": "0e5c4a9c",
   "metadata": {},
   "outputs": [],
   "source": [
    "# Create a Random Forest Classifier Model :\n",
    "\n",
    "RFC = RandomForestClassifier(n_estimators = 10)"
   ]
  },
  {
   "cell_type": "code",
   "execution_count": 28,
   "id": "10c2e204",
   "metadata": {},
   "outputs": [
    {
     "data": {
      "text/plain": [
       "RandomForestClassifier(n_estimators=10)"
      ]
     },
     "execution_count": 28,
     "metadata": {},
     "output_type": "execute_result"
    }
   ],
   "source": [
    "# Train the Random Forest Classifier Model :\n",
    "\n",
    "RFC.fit(x_train, y_train)"
   ]
  },
  {
   "cell_type": "code",
   "execution_count": 29,
   "id": "33b3f58f",
   "metadata": {},
   "outputs": [],
   "source": [
    "# Make Prediction :\n",
    "\n",
    "predictions = RFC.predict(x_test)"
   ]
  },
  {
   "cell_type": "code",
   "execution_count": 30,
   "id": "751d8f30",
   "metadata": {},
   "outputs": [
    {
     "name": "stdout",
     "output_type": "stream",
     "text": [
      "              precision    recall  f1-score   support\n",
      "\n",
      "           0       0.63      0.66      0.65       410\n",
      "           1       0.71      0.63      0.67       977\n",
      "           2       0.64      0.74      0.69       573\n",
      "\n",
      "    accuracy                           0.67      1960\n",
      "   macro avg       0.66      0.68      0.67      1960\n",
      "weighted avg       0.67      0.67      0.67      1960\n",
      "\n"
     ]
    }
   ],
   "source": [
    "# Classification report :\n",
    "\n",
    "print(classification_report(predictions, y_test))"
   ]
  },
  {
   "cell_type": "code",
   "execution_count": 31,
   "id": "021871eb",
   "metadata": {},
   "outputs": [
    {
     "name": "stdout",
     "output_type": "stream",
     "text": [
      "[[272 117  21]\n",
      " [144 615 218]\n",
      " [ 16 131 426]]\n"
     ]
    }
   ],
   "source": [
    "# Validate our model using a confusion matrix :\n",
    "\n",
    "print(confusion_matrix(predictions, y_test))"
   ]
  },
  {
   "cell_type": "markdown",
   "id": "b3169dcc",
   "metadata": {},
   "source": [
    "# 3. Multi-Linear Regression model :"
   ]
  },
  {
   "cell_type": "code",
   "execution_count": 45,
   "id": "555d2b34",
   "metadata": {},
   "outputs": [],
   "source": [
    "from sklearn.model_selection import train_test_split\n",
    "from sklearn.linear_model import LinearRegression\n",
    "from sklearn.metrics import mean_squared_error\n",
    "from sklearn import metrics"
   ]
  },
  {
   "cell_type": "code",
   "execution_count": 92,
   "id": "5c51b464",
   "metadata": {},
   "outputs": [
    {
     "name": "stdout",
     "output_type": "stream",
     "text": [
      "x :          pH  alcohol  sulphates\n",
      "0     3.00      8.8       0.45\n",
      "1     3.30      9.5       0.49\n",
      "2     3.26     10.1       0.44\n",
      "3     3.19      9.9       0.40\n",
      "4     3.19      9.9       0.40\n",
      "...    ...      ...        ...\n",
      "4893  3.27     11.2       0.50\n",
      "4894  3.15      9.6       0.46\n",
      "4895  2.99      9.4       0.46\n",
      "4896  3.34     12.8       0.38\n",
      "4897  3.26     11.8       0.32\n",
      "\n",
      "[4898 rows x 3 columns]\n",
      "y :  [1 1 1 ... 1 0 1]\n"
     ]
    }
   ],
   "source": [
    "# Specifying x and y :\n",
    "\n",
    "x = data[['pH' , 'alcohol' , 'sulphates' ]]\n",
    "y = data['quality classification'].values\n",
    "print('x : ' , x)\n",
    "print('y : ' , y)"
   ]
  },
  {
   "cell_type": "code",
   "execution_count": 93,
   "id": "755a4824",
   "metadata": {},
   "outputs": [],
   "source": [
    "# Splitting the data to test and train sets : \n",
    "\n",
    "x_train,x_test,y_train,y_test=train_test_split(x , y , test_size = 0.4 , random_state = 40)"
   ]
  },
  {
   "cell_type": "code",
   "execution_count": 94,
   "id": "90b8bdf0",
   "metadata": {},
   "outputs": [],
   "source": [
    "model = LinearRegression()   # build linear regression model\n",
    "model.fit(x_train , y_train)   # fitting the training data\n",
    "predicted = model.predict(x_test)   # testing our model’s performance"
   ]
  },
  {
   "cell_type": "code",
   "execution_count": 95,
   "id": "48434f54",
   "metadata": {},
   "outputs": [
    {
     "name": "stdout",
     "output_type": "stream",
     "text": [
      "MSE =  0.4131188487923209\n",
      "R squared =  0.21872544998750587\n"
     ]
    }
   ],
   "source": [
    "# Testing our model's performence :\n",
    "\n",
    "print(\"MSE = \", mean_squared_error(y_test,predicted))\n",
    "print(\"R squared = \", metrics.r2_score(y_test,predicted))"
   ]
  },
  {
   "cell_type": "markdown",
   "id": "d72c760f",
   "metadata": {},
   "source": [
    "# 3. K-NN model :"
   ]
  },
  {
   "cell_type": "code",
   "execution_count": 96,
   "id": "7093fcdf",
   "metadata": {},
   "outputs": [],
   "source": [
    "from sklearn.neighbors import KNeighborsClassifier\n",
    "from sklearn.metrics import accuracy_score"
   ]
  },
  {
   "cell_type": "code",
   "execution_count": 120,
   "id": "3d5f8116",
   "metadata": {},
   "outputs": [
    {
     "data": {
      "text/plain": [
       "KNeighborsClassifier()"
      ]
     },
     "execution_count": 120,
     "metadata": {},
     "output_type": "execute_result"
    }
   ],
   "source": [
    "knn=KNeighborsClassifier(n_neighbors = 5) # Build our knn classifier\n",
    "knn.fit(x_train , y_train) # Training KNN classifier"
   ]
  },
  {
   "cell_type": "code",
   "execution_count": 163,
   "id": "65eb428f",
   "metadata": {},
   "outputs": [
    {
     "name": "stdout",
     "output_type": "stream",
     "text": [
      "Acuuracy =  0.5341836734693878\n"
     ]
    }
   ],
   "source": [
    "y_pred=knn.predict(x_test)  # Testing\n",
    "print('Acuuracy = ', accuracy_score (y_pred , y_test))"
   ]
  },
  {
   "cell_type": "code",
   "execution_count": 182,
   "id": "a1c62130",
   "metadata": {},
   "outputs": [
    {
     "name": "stdout",
     "output_type": "stream",
     "text": [
      "Accuracy for k= 1 is: 0.51\n",
      "Accuracy for k= 2 is: 0.51\n",
      "Accuracy for k= 3 is: 0.51\n",
      "Accuracy for k= 4 is: 0.51\n",
      "Accuracy for k= 5 is: 0.51\n",
      "Accuracy for k= 6 is: 0.52\n",
      "Accuracy for k= 7 is: 0.52\n",
      "Accuracy for k= 8 is: 0.52\n",
      "Accuracy for k= 9 is: 0.52\n",
      "Accuracy for k= 10 is: 0.51\n",
      "Accuracy for k= 11 is: 0.52\n",
      "Accuracy for k= 12 is: 0.51\n",
      "Accuracy for k= 13 is: 0.52\n",
      "Accuracy for k= 14 is: 0.52\n",
      "Accuracy for k= 15 is: 0.52\n",
      "Accuracy for k= 16 is: 0.51\n",
      "Accuracy for k= 17 is: 0.51\n",
      "Accuracy for k= 18 is: 0.5\n",
      "Accuracy for k= 19 is: 0.5\n",
      "Accuracy for k= 20 is: 0.5\n",
      "Accuracy for k= 21 is: 0.51\n",
      "Accuracy for k= 22 is: 0.52\n",
      "Accuracy for k= 23 is: 0.52\n",
      "Accuracy for k= 24 is: 0.53\n",
      "Accuracy for k= 25 is: 0.53\n",
      "Accuracy for k= 26 is: 0.52\n",
      "Accuracy for k= 27 is: 0.53\n",
      "Accuracy for k= 28 is: 0.53\n",
      "Accuracy for k= 29 is: 0.6\n"
     ]
    }
   ],
   "source": [
    "n_neighbors=30\n",
    "scores=[]\n",
    "for k in range(1,30):\n",
    "    knn=KNeighborsClassifier(n_neighbors-k)\n",
    "    knn.fit(x_train,y_train)\n",
    "    y_pred=knn.predict(x_test)\n",
    "    print('Accuracy for k=',k,'is:',round(accuracy_score(y_pred,y_test),2))\n",
    "    scores.append(round(accuracy_score(y_pred,y_test),2))"
   ]
  },
  {
   "cell_type": "code",
   "execution_count": 184,
   "id": "15c781bd",
   "metadata": {},
   "outputs": [
    {
     "data": {
      "text/plain": [
       "Text(0, 0.5, 'Testing Accuracy')"
      ]
     },
     "execution_count": 184,
     "metadata": {},
     "output_type": "execute_result"
    },
    {
     "data": {
      "image/png": "[encoded data removed]",
      "text/plain": [
       "<Figure size 720x360 with 1 Axes>"
      ]
     },
     "metadata": {},
     "output_type": "display_data"
    }
   ],
   "source": [
    "plt.plot(range(1,30) , scores)\n",
    "plt.xlabel('Value K for KNN')\n",
    "plt.ylabel('Testing Accuracy')"
   ]
  }
 ],
 "metadata": {
  "kernelspec": {
   "display_name": "Python 3",
   "language": "python",
   "name": "python3"
  },
  "language_info": {
   "codemirror_mode": {
    "name": "ipython",
    "version": 3
   },
   "file_extension": ".py",
   "mimetype": "text/x-python",
   "name": "python",
   "nbconvert_exporter": "python",
   "pygments_lexer": "ipython3",
   "version": "3.8.8"
  }
 },
 "nbformat": 4,
 "nbformat_minor": 5
}
